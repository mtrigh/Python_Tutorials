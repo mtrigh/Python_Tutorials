{
 "cells": [
  {
   "cell_type": "markdown",
   "id": "34b267f4",
   "metadata": {},
   "source": [
    "# Data Types in Python\n",
    "\n",
    "This notebook explains different data types in Python. This shall form a strong foundation for your programming and Data Science training sessions.\n",
    "\n",
    "Data belongs to different categories. It can be numeric, text, true/false, complex numbers, date, of time for example. Data should be stored correctly to be able to do the desired operations on the data. If the data is stored incorrectly, for example numerical data is stored as text data, we can not do numerical or arithmetic operations on the data because the methods and the operations for a data depend largely on the type of data (object) being referred to.\n",
    "\n",
    "There are various data types in Python. Listed below are the most prominently used ones:\n",
    "\n",
    "Numeric: This is further divided into Integer, Float and, Complex\n",
    "\n",
    "Strings: are words in double quotes, can contain all sorts of symbols, letters, spaces and numbers \n",
    "\n",
    "Boolean: it is a built-in data type in Python, which represents one of the two values \"True\" or \"False\". Internally Python reads True as 1 and False as 0."
   ]
  },
  {
   "cell_type": "markdown",
   "id": "47d2408f",
   "metadata": {},
   "source": [
    "# Numeric Data Type\n",
    "\n",
    "As the name suggests, Numeric data type consists of numbers. These numbers can be whole numbers, decimal numbers or complex numbers.\n",
    "\n",
    "Whole numbers are stored in Integer (Int) type.\n",
    "\n",
    "Decimal numbers are stored in Float (Float64) type.\n",
    "\n",
    "Complex numbers are stored in Complex type. Are represented as A+Bi or A+Bj, where A is real part and B is imaginary part. (Note: only mentioned not used during the upcoming training sessions)\n",
    "\n",
    "You will find Integer and Float type being used most of the times.\n",
    "\n",
    "You can check the data type of an object using the type() command."
   ]
  },
  {
   "cell_type": "markdown",
   "id": "12506ab3",
   "metadata": {},
   "source": [
    "# Fundamental Information\n",
    "\n",
    "**Variables**: \n",
    "\n",
    "1) Are labels that are created to store information (words, numbers)\n",
    "\n",
    "2) Are called variables, because the value stored can be modified throughout the code\n",
    "\n",
    "3) Need to be a one word or if used multiple words, they need to be separated by underscore\n",
    "\n",
    "4) It is important to pick descriptive names to understand what is inside a variable\n",
    "Example: FS --> is this Financial Services, Fresh Service, Financial Statements?\n",
    "\n",
    "5) After creating the variable name \"=\" is used to store a value inside\n",
    "Example: company = \"ABC\"\n",
    "\n",
    "6) Variables can be given the values of other variables\n",
    "\n",
    "7) Variables cannot start with a symbol (&,+,%..)\n",
    "\n",
    "\n",
    "**Print**:\n",
    "\n",
    "1) print() It is an instruction that tells the computer to display a value in an area called \"console\"\n",
    "\n",
    "2) print() can be used as often as wanted, the computer will display the values on a line in the console\n",
    "\n",
    "3) When displaying variables in the console, their values will appear instead of their names"
   ]
  },
  {
   "cell_type": "markdown",
   "id": "3a619520",
   "metadata": {},
   "source": [
    "# Operators\n",
    "**Note: for this section we will represent asterisk as \"★\", when applying the code please use asterisk not \"★\"**\n",
    "\n",
    "\n",
    "= to store\n",
    "\n",
    "\n",
    "**Arithmetic**:\n",
    "\n",
    "\n",
    "1) +\tAddition: Sum of two operands\ta+b\n",
    "\n",
    "2) –\tSubtraction: Difference between two operands\ta-b\n",
    "\n",
    "3) ★\tMultiplication: Result of a multiplication\ta★b\n",
    "\n",
    "4) /\tFloat Division: Result of a division\ta/b\n",
    "\n",
    "5) //\tFloor Division: Quotient of two operands (returns the floor result (nearest integer down)\ta//b\n",
    "\n",
    "6) %\tModulus Operator: Integer (returns the remainder after division of \"a\" by \"b\") \ta%b\n",
    "\n",
    "7) ★★\tExponent: \"a\" to the power of \"b\"\ta★★b\n",
    "\n",
    "\n",
    "**Comparisons**:\n",
    "\n",
    "\n",
    "1) >\tGreater than: if the left operand is greater than the right, then it returns true.\ta>b\n",
    "\n",
    "2) <\tLess than: if the left operand is less than the right, then it returns true.\ta<b\n",
    "                                                                                            \n",
    "3) ==\tEqual to: if two operands are equal, then it returns true.\ta==b\n",
    "                                                                                            \n",
    "4) !=\tNot equal to: if two operands are not equal, then it returns true.\ta!=b\n",
    "                                                                                            \n",
    "5) >=\tGreater than or equal: if the left operand is greater than or equal to the right, then it returns true.\ta>=b\n",
    "    \n",
    "6) <=\tLess than or equal: if the left operand is less than or equal to the right, then it returns true.\n",
    "                 \n",
    "         \n",
    "**Assignment**:\n",
    "\n",
    "         \n",
    "1) =\t  a=2\tthis does the same as   a=2\n",
    "         \n",
    "2) +=\t  a+=2\tthis does the same as   a=a+2\n",
    "         \n",
    "3) -=\t  a-=2\tthis does the same as   a=a-2\n",
    "         \n",
    "4) ★=\t  a★=2\tthis does the same as   a=a★2\n",
    "         \n",
    "5) /=\t  a/=2\tthis does the same as   a=a/2\n",
    "         \n",
    "6) %=\t  a%=2\tthis does the same as   a=a%2\n",
    "                 \n",
    "7) ★★ =\t a★★=2\tthis does the same as   a=a★★2\n",
    "         \n",
    "8) &=\t  a&=2\tthis does the same as   a=a&2\n",
    "         \n",
    "9) |=\t  a|=2\tthis does the same as   a=a|2\n",
    "         \n",
    "10) ^=\t  a^=2\tthis does the same as   a=a^2\n",
    "         \n",
    "11) >>=\t  a>>=2\tthis does the same as   a=a>>2\n",
    "    \n",
    "12) <<=\t  a<<=2\tthis does the same as   a=<<2\n",
    "    \n",
    "\n",
    "**Logical**:\n",
    "\n",
    "1) and= compares 2 expressions, if both expressions are correct then it will show \"True\"\n",
    "    \n",
    "2) or= compares if at least one expression of the values will be True \n",
    "    \n",
    "3) not = will determine the Boolean value and returns the opposite\n",
    " "
   ]
  },
  {
   "cell_type": "markdown",
   "id": "7c3a05d0",
   "metadata": {},
   "source": [
    "## Examples"
   ]
  },
  {
   "cell_type": "markdown",
   "id": "57a79c2b",
   "metadata": {},
   "source": [
    "#### Variables usage examples"
   ]
  },
  {
   "cell_type": "code",
   "execution_count": 1,
   "id": "8017bcd7",
   "metadata": {},
   "outputs": [
    {
     "name": "stdout",
     "output_type": "stream",
     "text": [
      "Financial Services\n"
     ]
    }
   ],
   "source": [
    "FS = \"Financial Services\"\n",
    "print(FS)"
   ]
  },
  {
   "cell_type": "code",
   "execution_count": 2,
   "id": "e9b76dae",
   "metadata": {},
   "outputs": [
    {
     "name": "stdout",
     "output_type": "stream",
     "text": [
      "GS open tickets from Fresh Service\n"
     ]
    }
   ],
   "source": [
    "Tickets = \"GS open tickets from\"\n",
    "FS = \" Fresh Service\"\n",
    "Tracker = Tickets + FS\n",
    "print(Tracker)"
   ]
  },
  {
   "cell_type": "markdown",
   "id": "a0a55dda",
   "metadata": {},
   "source": [
    "#### Examples Integer"
   ]
  },
  {
   "cell_type": "code",
   "execution_count": 3,
   "id": "adc81191",
   "metadata": {},
   "outputs": [],
   "source": [
    "Number = 7"
   ]
  },
  {
   "cell_type": "code",
   "execution_count": 4,
   "id": "06908026",
   "metadata": {},
   "outputs": [],
   "source": [
    "active_users = 10 #storing using multiple words can be done by using \"_\" between each work"
   ]
  },
  {
   "cell_type": "code",
   "execution_count": 5,
   "id": "07cd617e",
   "metadata": {},
   "outputs": [
    {
     "name": "stdout",
     "output_type": "stream",
     "text": [
      "7\n"
     ]
    }
   ],
   "source": [
    "#Create expressions\n",
    "number_of_continents = 5+2  #expressions can be stored\n",
    "print(number_of_continents) #print the result of number_of_continents"
   ]
  },
  {
   "cell_type": "code",
   "execution_count": 6,
   "id": "a3dc72ea",
   "metadata": {},
   "outputs": [],
   "source": [
    "#Exercise:  How to convert 0.3 into its percent value?"
   ]
  },
  {
   "cell_type": "code",
   "execution_count": 7,
   "id": "6c65592f",
   "metadata": {},
   "outputs": [
    {
     "name": "stdout",
     "output_type": "stream",
     "text": [
      "30.0\n"
     ]
    }
   ],
   "source": [
    "percent = 0.3 *100\n",
    "print(percent)"
   ]
  },
  {
   "cell_type": "code",
   "execution_count": 8,
   "id": "156f48c5",
   "metadata": {},
   "outputs": [
    {
     "name": "stdout",
     "output_type": "stream",
     "text": [
      "Total users for ABC Systems are: 245\n"
     ]
    }
   ],
   "source": [
    "#Expressions can become values\n",
    "#Store calculation result in variables\n",
    "D365_users = 65\n",
    "SQL_users = 180\n",
    "Total_users = D365_users + SQL_users\n",
    "print(\"Total users for ABC Systems are:\", Total_users)"
   ]
  },
  {
   "cell_type": "markdown",
   "id": "1996c18b",
   "metadata": {},
   "source": [
    "#### Examples Float"
   ]
  },
  {
   "cell_type": "code",
   "execution_count": 9,
   "id": "4ee0cc37",
   "metadata": {},
   "outputs": [],
   "source": [
    "Pi = 3.14"
   ]
  },
  {
   "cell_type": "code",
   "execution_count": 10,
   "id": "cbb98144",
   "metadata": {},
   "outputs": [
    {
     "name": "stdout",
     "output_type": "stream",
     "text": [
      "Result of multiplying Pi by 3:\n",
      "9.42\n"
     ]
    }
   ],
   "source": [
    "#Variables with numbers can be used for calculations\n",
    "print(\"Result of multiplying Pi by 3:\") #To print a string can be done when using \"\"\n",
    "print(Pi*3)"
   ]
  },
  {
   "cell_type": "markdown",
   "id": "ddb2d0b4",
   "metadata": {},
   "source": [
    "#### Examples String"
   ]
  },
  {
   "cell_type": "code",
   "execution_count": 11,
   "id": "dad0fa12",
   "metadata": {},
   "outputs": [],
   "source": [
    "Season = \"Summer is coming\"  # The variable season, stores the value \"Summer is coming\""
   ]
  },
  {
   "cell_type": "code",
   "execution_count": 12,
   "id": "e3798899",
   "metadata": {},
   "outputs": [],
   "source": [
    "#Exercise: Create a _catchy phrase_ said in the following movie:\n",
    "Movie = \"Avengers\"\n",
    "Catchy_Phrase = \"\""
   ]
  },
  {
   "cell_type": "code",
   "execution_count": 13,
   "id": "4956ab06",
   "metadata": {},
   "outputs": [
    {
     "data": {
      "text/plain": [
       "'May Friday'"
      ]
     },
     "execution_count": 13,
     "metadata": {},
     "output_type": "execute_result"
    }
   ],
   "source": [
    "#Add string values by using +\n",
    "Month = \"May\"\n",
    "Weekday = \"Friday\"\n",
    "Month + \" \" + Weekday"
   ]
  },
  {
   "cell_type": "markdown",
   "id": "4c015897",
   "metadata": {},
   "source": [
    "#### Boolean Examples"
   ]
  },
  {
   "cell_type": "code",
   "execution_count": 14,
   "id": "6a31095d",
   "metadata": {},
   "outputs": [
    {
     "data": {
      "text/plain": [
       "True"
      ]
     },
     "execution_count": 14,
     "metadata": {},
     "output_type": "execute_result"
    }
   ],
   "source": [
    "#Is 10 equal to 10?\n",
    "10==10"
   ]
  },
  {
   "cell_type": "code",
   "execution_count": 15,
   "id": "c7f1221e",
   "metadata": {},
   "outputs": [
    {
     "data": {
      "text/plain": [
       "False"
      ]
     },
     "execution_count": 15,
     "metadata": {},
     "output_type": "execute_result"
    }
   ],
   "source": [
    "#Is 25 greater than 80?\n",
    "25>80"
   ]
  },
  {
   "cell_type": "markdown",
   "id": "66d3157d",
   "metadata": {},
   "source": [
    "## Data Type Conversions"
   ]
  },
  {
   "cell_type": "markdown",
   "id": "fffe3bf3",
   "metadata": {},
   "source": [
    "When the data is not stored correctly or it gets imported incorrectly. It needs to be converted to its correct type so that it can be optimally used in the analysis."
   ]
  },
  {
   "cell_type": "code",
   "execution_count": 16,
   "id": "e86dd0d4",
   "metadata": {},
   "outputs": [],
   "source": [
    "# Consider an object containing an integer.\n",
    "string1 = 1"
   ]
  },
  {
   "cell_type": "code",
   "execution_count": 17,
   "id": "4a772ea1",
   "metadata": {},
   "outputs": [
    {
     "data": {
      "text/plain": [
       "int"
      ]
     },
     "execution_count": 17,
     "metadata": {},
     "output_type": "execute_result"
    }
   ],
   "source": [
    "type(string1)"
   ]
  },
  {
   "cell_type": "code",
   "execution_count": 18,
   "id": "03d9b1a6",
   "metadata": {},
   "outputs": [],
   "source": [
    "# Use the value 1 as a text value. So let's convert it.\n",
    "string1 = str(string1)"
   ]
  },
  {
   "cell_type": "code",
   "execution_count": 19,
   "id": "4928efcf",
   "metadata": {},
   "outputs": [
    {
     "data": {
      "text/plain": [
       "str"
      ]
     },
     "execution_count": 19,
     "metadata": {},
     "output_type": "execute_result"
    }
   ],
   "source": [
    "type(string1)"
   ]
  },
  {
   "cell_type": "code",
   "execution_count": 20,
   "id": "bfb1a821",
   "metadata": {},
   "outputs": [],
   "source": [
    "# Exercise: Store the number 123456 as string."
   ]
  },
  {
   "cell_type": "code",
   "execution_count": 21,
   "id": "3b4bc3b6",
   "metadata": {},
   "outputs": [
    {
     "name": "stdout",
     "output_type": "stream",
     "text": [
      "123456\n"
     ]
    },
    {
     "data": {
      "text/plain": [
       "str"
      ]
     },
     "execution_count": 21,
     "metadata": {},
     "output_type": "execute_result"
    }
   ],
   "source": [
    "exercise = \"123456\"\n",
    "print(exercise)\n",
    "type(exercise)"
   ]
  },
  {
   "cell_type": "code",
   "execution_count": 22,
   "id": "4a95308a",
   "metadata": {},
   "outputs": [
    {
     "data": {
      "text/plain": [
       "float"
      ]
     },
     "execution_count": 22,
     "metadata": {},
     "output_type": "execute_result"
    }
   ],
   "source": [
    "#Convert string to float\n",
    "M = '10.123'\n",
    "E = float(M)\n",
    "type(E)"
   ]
  },
  {
   "cell_type": "code",
   "execution_count": 23,
   "id": "72e22262",
   "metadata": {},
   "outputs": [
    {
     "data": {
      "text/plain": [
       "str"
      ]
     },
     "execution_count": 23,
     "metadata": {},
     "output_type": "execute_result"
    }
   ],
   "source": [
    "int1 = \"500\"\n",
    "type(int1)"
   ]
  },
  {
   "cell_type": "code",
   "execution_count": 24,
   "id": "db1239f7",
   "metadata": {},
   "outputs": [
    {
     "data": {
      "text/plain": [
       "int"
      ]
     },
     "execution_count": 24,
     "metadata": {},
     "output_type": "execute_result"
    }
   ],
   "source": [
    "int1 = int(int1)\n",
    "type(int1)"
   ]
  },
  {
   "cell_type": "code",
   "execution_count": 25,
   "id": "e50254a7",
   "metadata": {},
   "outputs": [
    {
     "name": "stdout",
     "output_type": "stream",
     "text": [
      "sweet 16!\n"
     ]
    }
   ],
   "source": [
    "#Convert int to string\n",
    "pp = str(int(6 + 10.0))\n",
    "print(\"sweet \" + pp + \"!\") #Please note that after sweet there is one space"
   ]
  },
  {
   "cell_type": "markdown",
   "id": "b4b19679",
   "metadata": {},
   "source": [
    "# Data Type Conversions\n"
   ]
  },
  {
   "cell_type": "code",
   "execution_count": 26,
   "id": "ed8ff0f7",
   "metadata": {},
   "outputs": [
    {
     "data": {
      "text/plain": [
       "9"
      ]
     },
     "execution_count": 26,
     "metadata": {},
     "output_type": "execute_result"
    }
   ],
   "source": [
    "#Exponential\n",
    "3**2"
   ]
  },
  {
   "cell_type": "code",
   "execution_count": 27,
   "id": "911ab1b2",
   "metadata": {},
   "outputs": [
    {
     "data": {
      "text/plain": [
       "6"
      ]
     },
     "execution_count": 27,
     "metadata": {},
     "output_type": "execute_result"
    }
   ],
   "source": [
    "#Multiplication\n",
    "3*2"
   ]
  },
  {
   "cell_type": "code",
   "execution_count": 28,
   "id": "b7830b76",
   "metadata": {},
   "outputs": [
    {
     "data": {
      "text/plain": [
       "4"
      ]
     },
     "execution_count": 28,
     "metadata": {},
     "output_type": "execute_result"
    }
   ],
   "source": [
    "#What will be the answer to the following Python code?\n",
    "( 14 % 2 ) * ( 9 // 4 ) + 4 "
   ]
  },
  {
   "cell_type": "markdown",
   "id": "1e632d56",
   "metadata": {},
   "source": [
    "# Assignment Operators "
   ]
  },
  {
   "cell_type": "code",
   "execution_count": 29,
   "id": "ec29c8ad",
   "metadata": {},
   "outputs": [],
   "source": [
    "Y,Z=1,8"
   ]
  },
  {
   "cell_type": "code",
   "execution_count": 30,
   "id": "187aac7b",
   "metadata": {},
   "outputs": [
    {
     "name": "stdout",
     "output_type": "stream",
     "text": [
      "1\n",
      "8\n"
     ]
    }
   ],
   "source": [
    "print(Y)\n",
    "print(Z)"
   ]
  },
  {
   "cell_type": "code",
   "execution_count": 31,
   "id": "2cb260f4",
   "metadata": {},
   "outputs": [
    {
     "data": {
      "text/plain": [
       "2"
      ]
     },
     "execution_count": 31,
     "metadata": {},
     "output_type": "execute_result"
    }
   ],
   "source": [
    "A,B,C,D = 21,8,20,5\n",
    "( A % B ) + ( C // B ) - D"
   ]
  },
  {
   "cell_type": "code",
   "execution_count": 32,
   "id": "d24179aa",
   "metadata": {},
   "outputs": [
    {
     "ename": "ValueError",
     "evalue": "not enough values to unpack (expected 3, got 2)",
     "output_type": "error",
     "traceback": [
      "\u001b[1;31m---------------------------------------------------------------------------\u001b[0m",
      "\u001b[1;31mValueError\u001b[0m                                Traceback (most recent call last)",
      "\u001b[1;32m~\\AppData\\Local\\Temp/ipykernel_23608/3531665841.py\u001b[0m in \u001b[0;36m<module>\u001b[1;34m\u001b[0m\n\u001b[1;32m----> 1\u001b[1;33m \u001b[0ma\u001b[0m\u001b[1;33m,\u001b[0m \u001b[0mb\u001b[0m\u001b[1;33m,\u001b[0m \u001b[0mc\u001b[0m \u001b[1;33m=\u001b[0m \u001b[1;36m1\u001b[0m\u001b[1;33m,\u001b[0m \u001b[1;36m2\u001b[0m   \u001b[1;31m#Good practice is to read the errors (Value Error) to know how to troubleshoot\u001b[0m\u001b[1;33m\u001b[0m\u001b[1;33m\u001b[0m\u001b[0m\n\u001b[0m",
      "\u001b[1;31mValueError\u001b[0m: not enough values to unpack (expected 3, got 2)"
     ]
    }
   ],
   "source": [
    "a, b, c = 1, 2   #Good practice is to read the errors (Value Error) to know how to troubleshoot "
   ]
  },
  {
   "cell_type": "markdown",
   "id": "8e843d46",
   "metadata": {},
   "source": [
    "# Logical Operators"
   ]
  },
  {
   "cell_type": "code",
   "execution_count": 33,
   "id": "7e995d85",
   "metadata": {},
   "outputs": [],
   "source": [
    "#The revenue of the month of March is larger than my expenditure, and my revenue of March is less than April"
   ]
  },
  {
   "cell_type": "code",
   "execution_count": 34,
   "id": "47568863",
   "metadata": {},
   "outputs": [
    {
     "name": "stdout",
     "output_type": "stream",
     "text": [
      "True\n"
     ]
    }
   ],
   "source": [
    "#AND: giving a True outcome\n",
    "Expenses = 100\n",
    "March = 110 #Revenue\n",
    "April = 200 #Revenue\n",
    "Comparison = March>Expenses and March<April\n",
    "print(Comparison)"
   ]
  },
  {
   "cell_type": "code",
   "execution_count": 35,
   "id": "03898802",
   "metadata": {},
   "outputs": [
    {
     "name": "stdout",
     "output_type": "stream",
     "text": [
      "False\n"
     ]
    }
   ],
   "source": [
    "#AND: giving a False outcome\n",
    "Comparison2 = March>Expenses and March==April\n",
    "print(Comparison2)"
   ]
  },
  {
   "cell_type": "code",
   "execution_count": 36,
   "id": "d5381fe6",
   "metadata": {},
   "outputs": [
    {
     "name": "stdout",
     "output_type": "stream",
     "text": [
      "True\n"
     ]
    }
   ],
   "source": [
    "#OR: \n",
    "Comparison3 = March>Expenses or March==April\n",
    "print(Comparison3)"
   ]
  },
  {
   "cell_type": "code",
   "execution_count": 37,
   "id": "0e1f9068",
   "metadata": {},
   "outputs": [
    {
     "data": {
      "text/plain": [
       "True"
      ]
     },
     "execution_count": 37,
     "metadata": {},
     "output_type": "execute_result"
    }
   ],
   "source": [
    "#NOT: \n",
    "May = \"\"\n",
    "not May"
   ]
  },
  {
   "cell_type": "code",
   "execution_count": 38,
   "id": "a23f1123",
   "metadata": {},
   "outputs": [
    {
     "data": {
      "text/plain": [
       "False"
      ]
     },
     "execution_count": 38,
     "metadata": {},
     "output_type": "execute_result"
    }
   ],
   "source": [
    "#NOT: \n",
    "May = 210\n",
    "not May"
   ]
  },
  {
   "cell_type": "code",
   "execution_count": 39,
   "id": "212278d0",
   "metadata": {},
   "outputs": [
    {
     "data": {
      "text/plain": [
       "True"
      ]
     },
     "execution_count": 39,
     "metadata": {},
     "output_type": "execute_result"
    }
   ],
   "source": [
    "not True == False"
   ]
  }
 ],
 "metadata": {
  "kernelspec": {
   "display_name": "Python 3 (ipykernel)",
   "language": "python",
   "name": "python3"
  },
  "language_info": {
   "codemirror_mode": {
    "name": "ipython",
    "version": 3
   },
   "file_extension": ".py",
   "mimetype": "text/x-python",
   "name": "python",
   "nbconvert_exporter": "python",
   "pygments_lexer": "ipython3",
   "version": "3.9.7"
  }
 },
 "nbformat": 4,
 "nbformat_minor": 5
}
